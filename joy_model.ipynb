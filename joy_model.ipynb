{
 "cells": [
  {
   "cell_type": "markdown",
   "metadata": {},
   "source": [
    "# Joy Recognition Model"
   ]
  },
  {
   "cell_type": "code",
   "execution_count": 1,
   "metadata": {},
   "outputs": [],
   "source": [
    "import math\n",
    "import numpy as np\n",
    "import pandas as pd\n",
    "\n",
    "from matplotlib import pyplot\n",
    "\n",
    "from sklearn.model_selection import train_test_split\n",
    "from sklearn.preprocessing import LabelEncoder\n",
    "from sklearn.metrics import classification_report\n",
    "\n",
    "#https://scikit-learn.org/stable/modules/neural_networks_supervised.html\n",
    "from sklearn.neural_network import MLPClassifier"
   ]
  },
  {
   "cell_type": "code",
   "execution_count": 32,
   "metadata": {},
   "outputs": [],
   "source": [
    "#Want to get confidence level greater or equal to 0.85\n",
    "def filterConfidenceLevel(df):\n",
    "    return df[df[' confidence'] >= 0.85]\n",
    "\n",
    "#Change label 'Happy' to 1, return numpy array, rest as 0 as in \"Not happy\"\n",
    "def labelHappiness(df):\n",
    "    df.loc[df.label == \"angry\", \"cluster\"] = 0\n",
    "    df.loc[df.label == \"disgust\", \"cluster\"] = 0\n",
    "    df.loc[df.label == \"fear\", \"cluster\"] = 0\n",
    "    df.loc[df.label == \"happy\", \"cluster\"] = 1\n",
    "    df.loc[df.label == \"neutral\", \"cluster\"] = 0\n",
    "    df.loc[df.label == \"sad\", \"cluster\"] = 0\n",
    "    df.loc[df.label == \"surprise\", \"cluster\"] = 0\n",
    "    return df['cluster']\n",
    "\n",
    "def addLabel(df, label):\n",
    "    df = df['label'] = label\n",
    "    return df"
   ]
  },
  {
   "cell_type": "code",
   "execution_count": 33,
   "metadata": {},
   "outputs": [],
   "source": [
    "#Data\n",
    "fer2013 = pd.read_csv('./dataset/training/fer2013.csv')\n",
    "phoebe = pd.read_csv('./dataset/testing/phoebe.csv')\n",
    "angryTrainingSet = pd.read_csv('./dataset/training/emotioncsv/angrycsv/angry.csv')\n",
    "disgustTrainingSet = pd.read_csv('./dataset/training/emotioncsv/disgustcsv/disgust.csv')\n",
    "fearTrainingSet = pd.read_csv('./dataset/training/emotioncsv/fearcsv/fear.csv')\n",
    "happyTrainingSet = pd.read_csv('./dataset/training/emotioncsv/happycsv/happy.csv')\n",
    "neutralTrainingSet = pd.read_csv('./dataset/training/emotioncsv/neutralcsv/neutral.csv')\n",
    "sadTrainingSet = pd.read_csv('./dataset/training/emotioncsv/sadcsv/sad.csv')\n",
    "surpriseTrainingSet = pd.read_csv('./dataset/training/emotioncsv/surprisecsv/surprise.csv')"
   ]
  },
  {
   "cell_type": "markdown",
   "metadata": {},
   "source": [
    "# Preprocessing"
   ]
  },
  {
   "cell_type": "code",
   "execution_count": 37,
   "metadata": {},
   "outputs": [],
   "source": [
    "requiredAUs = [' AU06_r', ' AU06_c', ' AU10_c', ' AU10_r', ' AU12_c', ' AU12_r', ' AU14_c', ' AU14_r']\n",
    "forFilteringAndLabeling = [' confidence', 'label'] "
   ]
  },
  {
   "cell_type": "code",
   "execution_count": 51,
   "metadata": {},
   "outputs": [],
   "source": [
    "#Add Labels\n",
    "angryTrainingSet['label'] = 'angry'\n",
    "disgustTrainingSet['label'] = 'disgust'\n",
    "fearTrainingSet['label'] = 'fear'\n",
    "happyTrainingSet['label'] = 'happy'\n",
    "neutralTrainingSet['label'] = 'neutral'\n",
    "sadTrainingSet['label'] = 'sad'\n",
    "surpriseTrainingSet['label'] = 'surprise'\n",
    "\n",
    "combineEmotions = pd.concat([angryTrainingSet, disgustTrainingSet, \n",
    "                             fearTrainingSet, happyTrainingSet, neutralTrainingSet,\n",
    "                            sadTrainingSet, surpriseTrainingSet], axis = 0)\n",
    "\n",
    "#Get all initial required columns\n",
    "combineEmotions = combineEmotions[requiredAUs + forFilteringAndLabeling]\n",
    "\n",
    "#Get Confidence level >= 0.85\n",
    "combineEmotions = filterConfidenceLevel(combineEmotions)\n",
    "\n",
    "#Response Value -> Numpy array\n",
    "y = labelHappiness(combineEmotions)\n",
    "\n",
    "#Dropping unnecessary columns, only AUs for 6_c, 6_r, 12_c, and 12_r needed\n",
    "combineEmotions = combineEmotions.drop(columns = forFilteringAndLabeling + ['cluster'])\n",
    "\n",
    "#Features -> Numpy array\n",
    "X = combineEmotions.to_numpy()"
   ]
  },
  {
   "cell_type": "markdown",
   "metadata": {},
   "source": [
    "# Training Model"
   ]
  },
  {
   "cell_type": "code",
   "execution_count": 53,
   "metadata": {},
   "outputs": [
    {
     "data": {
      "text/plain": [
       "MLPClassifier(alpha=1e-05, hidden_layer_sizes=(5, 2), max_iter=300,\n",
       "              random_state=1)"
      ]
     },
     "execution_count": 53,
     "metadata": {},
     "output_type": "execute_result"
    }
   ],
   "source": [
    "#Training the model \n",
    "#Added max iteration to 300 to avoid convergence warning, using 'adam' because its good for large training sets\n",
    "clf = MLPClassifier(solver='adam', alpha=1e-5, hidden_layer_sizes=(5, 2), random_state=1, max_iter = 300)\n",
    "clf.fit(X,y)"
   ]
  }
 ],
 "metadata": {
  "kernelspec": {
   "display_name": "Python 3",
   "language": "python",
   "name": "python3"
  },
  "language_info": {
   "codemirror_mode": {
    "name": "ipython",
    "version": 3
   },
   "file_extension": ".py",
   "mimetype": "text/x-python",
   "name": "python",
   "nbconvert_exporter": "python",
   "pygments_lexer": "ipython3",
   "version": "3.8.8"
  }
 },
 "nbformat": 4,
 "nbformat_minor": 2
}
