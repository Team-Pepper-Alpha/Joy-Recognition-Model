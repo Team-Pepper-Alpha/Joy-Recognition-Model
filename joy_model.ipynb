{
 "cells": [
  {
   "cell_type": "markdown",
   "metadata": {},
   "source": [
    "# Joy Recognition Model"
   ]
  },
  {
   "cell_type": "code",
   "execution_count": 13,
   "metadata": {},
   "outputs": [],
   "source": [
    "#https://numpy.org\n",
    "import numpy as np\n",
    "#https://pandas.pydata.org\n",
    "import pandas as pd\n",
    "#https://scikit-learn.org/stable/modules/neural_networks_supervised.html\n",
    "from sklearn.neural_network import MLPClassifier\n",
    "#https://scikit-learn.org/stable/modules/generated/sklearn.svm.SVC.html\n",
    "from sklearn.svm import SVC"
   ]
  },
  {
   "cell_type": "code",
   "execution_count": 14,
   "metadata": {},
   "outputs": [],
   "source": [
    "#Want to get confidence level greater or equal to 0.95\n",
    "def filterConfidenceLevel(df):\n",
    "    return df[df[' confidence'] >= 0.95]\n",
    "\n",
    "#Change label 'Happy' to 1, return numpy array, rest as 0 as in \"Not happy\"\n",
    "def labelHappiness(df):\n",
    "    df.loc[df.label == \"angry\", \"cluster\"] = 0\n",
    "    df.loc[df.label == \"disgust\", \"cluster\"] = 0\n",
    "    df.loc[df.label == \"fear\", \"cluster\"] = 0\n",
    "    df.loc[df.label == \"happy\", \"cluster\"] = 1\n",
    "    df.loc[df.label == \"neutral\", \"cluster\"] = 0\n",
    "    df.loc[df.label == \"sad\", \"cluster\"] = 0\n",
    "    df.loc[df.label == \"surprise\", \"cluster\"] = 0\n",
    "    return df['cluster']"
   ]
  },
  {
   "cell_type": "code",
   "execution_count": 15,
   "metadata": {},
   "outputs": [],
   "source": [
    "#TRAINING DATA with masked on (Obtained using OpenFace)\n",
    "happyMaskedData = pd.read_csv('./dataset/training/train/happy_maskedcsv/happy_masked.csv')\n",
    "fearMaskedData = pd.read_csv('./dataset/training/train/fear_maskedcsv/fear_masked.csv')\n",
    "neutralMaskedData = pd.read_csv('./dataset/training/train/neutral_maskedcsv/neutral_masked.csv')\n",
    "sadMaskedData = pd.read_csv('./dataset/training/train/sad_maskedcsv/sad_masked.csv')\n",
    "surpriseMaskedData = pd.read_csv('./dataset/training/train/surprise_maskedcsv/surprise_masked.csv')\n",
    "disgustMaskedData = pd.read_csv('./dataset/training/train/disgust_maskedcsv/disgust_masked.csv')\n",
    "angryMaskedData = pd.read_csv('./dataset/training/train/angry_maskedcsv/angry_masked.csv')"
   ]
  },
  {
   "cell_type": "code",
   "execution_count": 16,
   "metadata": {},
   "outputs": [],
   "source": [
    "#TESTING DATA with masked on (Obtained using OpenFace)\n",
    "happyTestMaskedData = pd.read_csv('./dataset/testing/test/happytest_maskedcsv/happytest_masked.csv')\n",
    "fearTestMaskedData = pd.read_csv('./dataset/testing/test/feartest_maskedcsv/feartest_masked.csv')\n",
    "neutralTestMaskedData = pd.read_csv('./dataset/testing/test/neutraltest_maskedcsv/neutraltest_masked.csv')\n",
    "sadTestMaskedData = pd.read_csv('./dataset/testing/test/sadtest_maskedcsv/sadtest_masked.csv')\n",
    "surpriseTestMaskedData = pd.read_csv('./dataset/testing/test/surprisetest_maskedcsv/surprisetest_masked.csv')\n",
    "disgustTestMaskedData = pd.read_csv('./dataset/testing/test/disgusttest_maskedcsv/disgusttest_masked.csv')\n",
    "angryTestMaskedData = pd.read_csv('./dataset/testing/test/angrytest_maskedcsv/angrytest_masked.csv')"
   ]
  },
  {
   "cell_type": "markdown",
   "metadata": {},
   "source": [
    "# Preprocessing"
   ]
  },
  {
   "cell_type": "code",
   "execution_count": 17,
   "metadata": {},
   "outputs": [],
   "source": [
    "#Upper half Of the face (AUs)\n",
    "requiredAUs = [' AU01_r', ' AU01_c', ' AU02_c', ' AU02_r', ' AU04_r', ' AU04_c', ' AU05_c', ' AU05_r', ' AU06_r', ' AU06_c', ' AU07_r', ' AU07_c']\n",
    "forFilteringAndLabeling = [' confidence', 'label'] "
   ]
  },
  {
   "cell_type": "code",
   "execution_count": 18,
   "metadata": {},
   "outputs": [],
   "source": [
    "#Add Labels for each emotion\n",
    "angryMaskedData['label'] = 'angry'\n",
    "disgustMaskedData['label'] = 'disgust'\n",
    "fearMaskedData['label'] = 'fear'\n",
    "happyMaskedData['label'] = 'happy'\n",
    "neutralMaskedData['label'] = 'neutral'\n",
    "sadMaskedData['label'] = 'sad'\n",
    "surpriseMaskedData['label'] = 'surprise'\n",
    "\n",
    "#Combine all emotions into one dataframe\n",
    "combineEmotions = pd.concat([angryMaskedData, disgustMaskedData, \n",
    "                             fearMaskedData, happyMaskedData, neutralMaskedData,\n",
    "                            sadMaskedData, surpriseMaskedData], axis = 0)\n",
    "\n",
    "#Get all initial required columns\n",
    "combineEmotions = combineEmotions[requiredAUs + forFilteringAndLabeling]\n",
    "\n",
    "#Get Confidence level >= 0.95\n",
    "combineEmotions = filterConfidenceLevel(combineEmotions)\n",
    "\n",
    "#Response Value -> Numpy array\n",
    "y = labelHappiness(combineEmotions)\n",
    "\n",
    "#Dropping unnecessary columns, only required AUs are needed\n",
    "combineEmotions = combineEmotions.drop(columns = forFilteringAndLabeling + ['cluster'])\n",
    "\n",
    "#Features -> Numpy array\n",
    "X = combineEmotions.to_numpy()"
   ]
  },
  {
   "cell_type": "markdown",
   "metadata": {},
   "source": [
    "# Training Model"
   ]
  },
  {
   "cell_type": "code",
   "execution_count": 19,
   "metadata": {},
   "outputs": [
    {
     "data": {
      "text/plain": [
       "SVC(class_weight='balanced', gamma='auto', kernel='sigmoid', random_state=42)"
      ]
     },
     "execution_count": 19,
     "metadata": {},
     "output_type": "execute_result"
    }
   ],
   "source": [
    "#Training the model \n",
    "#using 'adam' because its good for large training sets\n",
    "clf = MLPClassifier(solver='adam', hidden_layer_sizes=(1, 2), random_state=1, max_iter = 300, activation = \"logistic\")\n",
    "clf.fit(X,y)\n",
    "\n",
    "#SVM Model\n",
    "svmModel = SVC(random_state = 42, gamma = \"auto\", kernel = 'sigmoid', class_weight = 'balanced')\n",
    "svmModel.fit(X,y)"
   ]
  },
  {
   "cell_type": "markdown",
   "metadata": {},
   "source": [
    "# Testing"
   ]
  },
  {
   "cell_type": "code",
   "execution_count": 20,
   "metadata": {},
   "outputs": [],
   "source": [
    "#TESTING DATA with masked, labeling to determine which emotion is which\n",
    "happyTestMaskedData['label'] = 'happy'\n",
    "fearTestMaskedData['label'] = 'fear'\n",
    "neutralTestMaskedData['label'] = 'neutral'\n",
    "sadTestMaskedData['label'] = 'sad'\n",
    "surpriseTestMaskedData['label'] = 'surprise'\n",
    "disgustTestMaskedData['label'] = 'disgust'\n",
    "angryTestMaskedData['label'] = 'angry'"
   ]
  },
  {
   "cell_type": "code",
   "execution_count": 21,
   "metadata": {},
   "outputs": [],
   "source": [
    "#Combining test dataset to one dataframe\n",
    "combinedMaskTest = pd.concat([happyTestMaskedData, fearTestMaskedData, neutralTestMaskedData, sadTestMaskedData, \n",
    "                         surpriseTestMaskedData, disgustTestMaskedData, angryTestMaskedData], axis = 0)\n",
    "\n",
    "#Filtering confidence level and labeling clusters\n",
    "combinedMaskTest = combinedMaskTest[requiredAUs + forFilteringAndLabeling]\n",
    "combinedMaskTest = filterConfidenceLevel(combinedMaskTest)\n",
    "y_test = labelHappiness(combinedMaskTest)\n",
    "\n",
    "#Drop unnecessary columns\n",
    "combinedMaskTest = combinedMaskTest.drop(columns = forFilteringAndLabeling + ['cluster'])\n",
    "\n",
    "#Test with our X features\n",
    "X_test = combinedMaskTest.to_numpy()"
   ]
  },
  {
   "cell_type": "code",
   "execution_count": 22,
   "metadata": {},
   "outputs": [
    {
     "data": {
      "text/plain": [
       "72.19887955182072"
      ]
     },
     "execution_count": 22,
     "metadata": {},
     "output_type": "execute_result"
    }
   ],
   "source": [
    "#Accuracy Score for MLP Classifier\n",
    "clf.score(X_test, y_test) * 100"
   ]
  },
  {
   "cell_type": "code",
   "execution_count": 24,
   "metadata": {},
   "outputs": [
    {
     "data": {
      "text/plain": [
       "57.14285714285714"
      ]
     },
     "execution_count": 24,
     "metadata": {},
     "output_type": "execute_result"
    }
   ],
   "source": [
    "#Accuracy Score for SVM\n",
    "svmModel.score(X_test,y_test) * 100"
   ]
  }
 ],
 "metadata": {
  "kernelspec": {
   "display_name": "Python 3",
   "language": "python",
   "name": "python3"
  },
  "language_info": {
   "codemirror_mode": {
    "name": "ipython",
    "version": 3
   },
   "file_extension": ".py",
   "mimetype": "text/x-python",
   "name": "python",
   "nbconvert_exporter": "python",
   "pygments_lexer": "ipython3",
   "version": "3.8.8"
  }
 },
 "nbformat": 4,
 "nbformat_minor": 2
}
