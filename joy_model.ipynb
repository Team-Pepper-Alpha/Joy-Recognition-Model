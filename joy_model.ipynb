{
 "cells": [
  {
   "cell_type": "markdown",
   "metadata": {},
   "source": [
    "# Joy Recognition Model"
   ]
  },
  {
   "cell_type": "code",
   "execution_count": 49,
   "metadata": {},
   "outputs": [],
   "source": [
    "import math\n",
    "import numpy as np\n",
    "import pandas as pd\n",
    "\n",
    "from matplotlib import pyplot\n",
    "\n",
    "from sklearn.model_selection import train_test_split\n",
    "from sklearn.preprocessing import LabelEncoder\n",
    "from sklearn.metrics import classification_report\n",
    "\n",
    "#https://scikit-learn.org/stable/modules/neural_networks_supervised.html\n",
    "from sklearn.neural_network import MLPClassifier"
   ]
  },
  {
   "cell_type": "code",
   "execution_count": 68,
   "metadata": {},
   "outputs": [],
   "source": [
    "#Want to get confidence level greater or equal to 0.80\n",
    "def filterConfidenceLevel(df):\n",
    "    return df[df['confidence'] >= 0.80]\n",
    "\n",
    "#Change label 'Happy' to 1, return numpy array, rest as 0 as in \"Not happy\"\n",
    "def labelHappiness(df):\n",
    "    df.loc[df.label == \"angry\", \"cluster\"] = 0\n",
    "    df.loc[df.label == \"disgust\", \"cluster\"] = 0\n",
    "    df.loc[df.label == \"fear\", \"cluster\"] = 0\n",
    "    df.loc[df.label == \"happy\", \"cluster\"] = 1\n",
    "    df.loc[df.label == \"neutral\", \"cluster\"] = 0\n",
    "    df.loc[df.label == \"sad\", \"cluster\"] = 0\n",
    "    df.loc[df.label == \"surprise\", \"cluster\"] = 0\n",
    "    return df['cluster']"
   ]
  },
  {
   "cell_type": "code",
   "execution_count": 85,
   "metadata": {},
   "outputs": [],
   "source": [
    "fer2013 = pd.read_csv('./dataset/fer2013.csv')\n",
    "phoebe = pd.read_csv('./dataset/phoebe.csv')"
   ]
  },
  {
   "cell_type": "code",
   "execution_count": 107,
   "metadata": {},
   "outputs": [],
   "source": [
    "requiredAUs = ['AU06_r', 'AU06_c', 'AU10_c', 'AU10_r', 'AU12_c', 'AU12_r', 'AU14_c', 'AU14_r']\n",
    "forFilteringAndLabeling = ['confidence', 'label']"
   ]
  },
  {
   "cell_type": "code",
   "execution_count": 113,
   "metadata": {},
   "outputs": [],
   "source": [
    "#Get all initial required columns\n",
    "requiredAUsForHappiness = fer2013[requiredAUs + forFilteringAndLabeling]\n",
    "\n",
    "#Filtering confidence lsevel\n",
    "requiredAUsForHappiness = filterConfidenceLevel(requiredAUsForHappiness)\n",
    "\n",
    "#Response Value -> Numpy array\n",
    "y = labelHappiness(requiredAUsForHappiness)\n",
    "\n",
    "#Dropping unnecessary columns, only AUs for 6_c, 6_r, 12_c, and 12_r needed\n",
    "requiredAUsForHappiness = requiredAUsForHappiness.drop(columns = forFilteringAndLabeling + ['cluster'])\n",
    "\n",
    "#Features -> Numpy array\n",
    "X = requiredAUsForHappiness.to_numpy()"
   ]
  },
  {
   "cell_type": "code",
   "execution_count": 126,
   "metadata": {},
   "outputs": [
    {
     "data": {
      "text/plain": [
       "MLPClassifier(alpha=1e-05, hidden_layer_sizes=(5, 2), max_iter=300,\n",
       "              random_state=1, solver='lbfgs')"
      ]
     },
     "execution_count": 126,
     "metadata": {},
     "output_type": "execute_result"
    }
   ],
   "source": [
    "#Training the model \n",
    "#Added max iteration to 300 to avoid convergence warning \n",
    "clf = MLPClassifier(solver='lbfgs', alpha=1e-5, hidden_layer_sizes=(5, 2), random_state=1, max_iter = 300)\n",
    "clf.fit(X,y)"
   ]
  },
  {
   "cell_type": "code",
   "execution_count": 121,
   "metadata": {},
   "outputs": [],
   "source": [
    "\n",
    "phoebeHappy = phoebe[phoebe['label'] == 'happy']\n",
    "phoebeHappy = phoebeHappy[requiredAUs].to_numpy()\n",
    "\n",
    "phoebeSad = phoebe[phoebe['label'] == 'sad']\n",
    "phoebeSad = phoebeSad[requiredAUs].to_numpy()"
   ]
  },
  {
   "cell_type": "code",
   "execution_count": 122,
   "metadata": {},
   "outputs": [
    {
     "data": {
      "text/plain": [
       "array([1., 0., 1., 1., 1., 1., 1., 1., 1., 1., 0., 0., 1., 0., 0., 1., 0.,\n",
       "       1., 1., 1., 0., 0., 1., 0., 1., 0., 1., 1., 1., 1., 0.])"
      ]
     },
     "execution_count": 122,
     "metadata": {},
     "output_type": "execute_result"
    }
   ],
   "source": [
    "clf.predict(phoebeHappy)"
   ]
  },
  {
   "cell_type": "code",
   "execution_count": 123,
   "metadata": {},
   "outputs": [
    {
     "data": {
      "text/plain": [
       "array([0., 0., 0., 0., 0., 0., 0., 0., 0., 0., 0., 0., 1., 0., 0., 0., 0.,\n",
       "       0., 0.])"
      ]
     },
     "execution_count": 123,
     "metadata": {},
     "output_type": "execute_result"
    }
   ],
   "source": [
    "clf.predict(phoebeSad)"
   ]
  }
 ],
 "metadata": {
  "kernelspec": {
   "display_name": "Python 3",
   "language": "python",
   "name": "python3"
  },
  "language_info": {
   "codemirror_mode": {
    "name": "ipython",
    "version": 3
   },
   "file_extension": ".py",
   "mimetype": "text/x-python",
   "name": "python",
   "nbconvert_exporter": "python",
   "pygments_lexer": "ipython3",
   "version": "3.8.8"
  }
 },
 "nbformat": 4,
 "nbformat_minor": 2
}
